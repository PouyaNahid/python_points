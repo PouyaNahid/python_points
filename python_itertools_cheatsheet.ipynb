{
 "cells": [
  {
   "attachments": {},
   "cell_type": "markdown",
   "metadata": {},
   "source": [
    "# Table of Contents\n",
    "- Map function\n",
    "- Filter function\n",
    "- Zip function\n"
   ]
  },
  {
   "attachments": {},
   "cell_type": "markdown",
   "metadata": {},
   "source": [
    "# Functions\n",
    "### Map\n"
   ]
  },
  {
   "cell_type": "code",
   "execution_count": 2,
   "metadata": {},
   "outputs": [],
   "source": [
    "l1 = [1, 2, 3, 4, 5, 6]\n",
    "l2 = [10, 11, 12, 13, 14, 15]\n",
    "def add(x, y):\n",
    "    return x + y"
   ]
  },
  {
   "cell_type": "code",
   "execution_count": 10,
   "metadata": {},
   "outputs": [
    {
     "name": "stdout",
     "output_type": "stream",
     "text": [
      "[11, 13, 15, 17, 19, 21]\n"
     ]
    }
   ],
   "source": [
    "# using routine for loop\n",
    "l3 = []\n",
    "for i in range(len(l1)):\n",
    "    l3.append(add(l1[i], l2[i]))\n",
    "print(l3)"
   ]
  },
  {
   "cell_type": "code",
   "execution_count": 8,
   "metadata": {},
   "outputs": [
    {
     "name": "stdout",
     "output_type": "stream",
     "text": [
      "[11, 13, 15, 17, 19, 21]\n"
     ]
    }
   ],
   "source": [
    "# using map function in relation to external add() function\n",
    "l3 = list(map(add, l1, l2))\n",
    "print(l3)"
   ]
  },
  {
   "cell_type": "code",
   "execution_count": 9,
   "metadata": {},
   "outputs": [
    {
     "name": "stdout",
     "output_type": "stream",
     "text": [
      "[11, 13, 15, 17, 19, 21]\n"
     ]
    }
   ],
   "source": [
    "# using map function in coordinates with lambda add() function\n",
    "l3 = list(map(lambda x, y: x + y, l1, l2))\n",
    "print(l3)"
   ]
  },
  {
   "attachments": {},
   "cell_type": "markdown",
   "metadata": {},
   "source": [
    "### Filter"
   ]
  },
  {
   "cell_type": "code",
   "execution_count": 12,
   "metadata": {},
   "outputs": [
    {
     "name": "stdout",
     "output_type": "stream",
     "text": [
      "[12, 14]\n"
     ]
    }
   ],
   "source": [
    "l4 = list(filter(lambda x: 10 < x < 18 and x % 2 == 0, l2))\n",
    "print (l4)"
   ]
  },
  {
   "attachments": {},
   "cell_type": "markdown",
   "metadata": {},
   "source": [
    "### Zip"
   ]
  },
  {
   "cell_type": "code",
   "execution_count": 14,
   "metadata": {},
   "outputs": [
    {
     "name": "stdout",
     "output_type": "stream",
     "text": [
      "{'dog': 10, 'cat': 11, 'cow': 12, 'lion': 13, 'chicken': 14}\n",
      "[('dog', 10), ('cat', 11), ('cow', 12), ('lion', 13), ('chicken', 14)]\n",
      "{('chicken', 14), ('cow', 12), ('cat', 11), ('dog', 10), ('lion', 13)}\n"
     ]
    }
   ],
   "source": [
    "l5 = ['dog', 'cat', 'cow', 'lion', 'chicken']\n",
    "l6 = [10, 11, 12, 13, 14, 15]\n",
    "\n",
    "d1 = dict(zip(l5, l6))\n",
    "\n",
    "l7 = list(zip(l5, l6))\n",
    "\n",
    "s1 =  set(zip(l5, l6))\n",
    "\n",
    "print(d1, l7, s1, sep='\\n')"
   ]
  },
  {
   "attachments": {},
   "cell_type": "markdown",
   "metadata": {},
   "source": [
    "#### Quick way to zip dictionaries"
   ]
  },
  {
   "cell_type": "code",
   "execution_count": 19,
   "metadata": {},
   "outputs": [
    {
     "name": "stdout",
     "output_type": "stream",
     "text": [
      "new dict is: {'pouya': 1, 'nahid': 2, 'age': 37, 'sex': 'male'}\n"
     ]
    }
   ],
   "source": [
    "d2 = {'pouya': 1, 'nahid': 2}\n",
    "d3 = {'age': 37, 'sex': 'male'}\n",
    "\n",
    "d4 = {**d2, **d3}\n",
    "\n",
    "print('new dict is:', d4, end='\\n')"
   ]
  },
  {
   "attachments": {},
   "cell_type": "markdown",
   "metadata": {},
   "source": [
    "## Itertools Library\n",
    "The itertools module is a collection of tools intended to be fast and use memory efficiently when handling iterators (like lists or dictionaries).\n",
    "The itertools module comes in the standard library and must be imported.\n",
    "The operator module will also be used. This module is not necessary when using itertools, but needed for some of the examples below."
   ]
  },
  {
   "cell_type": "code",
   "execution_count": 21,
   "metadata": {},
   "outputs": [],
   "source": [
    "import itertools\n",
    "import operator"
   ]
  },
  {
   "attachments": {},
   "cell_type": "markdown",
   "metadata": {},
   "source": [
    "## Count()\n",
    "Makes an iterator that returns evenly spaced values starting with number start.\n",
    "<br>count(start, step) -> iterator.</br>\n",
    "\n",
    "<i>Remember: Each time your generator is called upon using next, it will only then yield the result.\n",
    "<br>This will continue until your generator is exhausted.</br></i>"
   ]
  },
  {
   "cell_type": "code",
   "execution_count": 29,
   "metadata": {},
   "outputs": [
    {
     "name": "stdout",
     "output_type": "stream",
     "text": [
      "i = 10, i = 13, i = 16, i = 19, i = 22, \n",
      "next count is 25.\n"
     ]
    }
   ],
   "source": [
    "ctr = itertools.count(start = 10, step = 3)\n",
    "\n",
    "for i in ctr:\n",
    "    print(f'{i = }', end= ', ')\n",
    "    if i > 20:\n",
    "        break\n",
    "print(f'\\nnext count is {next(ctr)}.')\n"
   ]
  },
  {
   "attachments": {},
   "cell_type": "markdown",
   "metadata": {},
   "source": [
    "## Cycle()\n",
    "This creates an iterable object of what you pass in in an endless cycle.\n",
    "<br>cycle(iterable) -> iterator </br>"
   ]
  },
  {
   "cell_type": "code",
   "execution_count": 32,
   "metadata": {},
   "outputs": [
    {
     "name": "stdout",
     "output_type": "stream",
     "text": [
      "0: red, 1: orange, 2: yellow, 3: green, 4: blue, 5: violet, 6: red, 7: orange, 8: yellow, 9: green, 10: blue, 11: violet, 12: red, 13: orange, 14: yellow, "
     ]
    }
   ],
   "source": [
    "colors = ['red', 'orange', 'yellow', 'green', 'blue', 'violet']\n",
    "i = 0\n",
    "for color in itertools.cycle(colors):\n",
    "    print(f'{i}: {color}', end= ', ')\n",
    "    i += 1\n",
    "    if i > 14:\n",
    "        break"
   ]
  },
  {
   "cell_type": "markdown",
   "metadata": {},
   "source": []
  },
  {
   "attachments": {},
   "cell_type": "markdown",
   "metadata": {},
   "source": [
    "## Repeat()\n",
    "This function will repeat an object over and over again. Unless, there is a times argument.\n",
    "<br>repeat(object, times)</br>"
   ]
  },
  {
   "cell_type": "code",
   "execution_count": 44,
   "metadata": {},
   "outputs": [
    {
     "data": {
      "text/plain": [
       "['Pouya', 'Pouya', 'Pouya', 'Pouya']"
      ]
     },
     "execution_count": 44,
     "metadata": {},
     "output_type": "execute_result"
    }
   ],
   "source": [
    "list(itertools.repeat('Pouya', 4))"
   ]
  },
  {
   "cell_type": "code",
   "execution_count": 45,
   "metadata": {},
   "outputs": [
    {
     "name": "stdout",
     "output_type": "stream",
     "text": [
      "Succed\n",
      "Succed\n",
      "Succed\n",
      "Succed\n"
     ]
    }
   ],
   "source": [
    "\n",
    "repeat_object = itertools.repeat('Succed', 4)\n",
    "print(next(repeat_object))\n",
    "print(next(repeat_object))\n",
    "print(next(repeat_object))\n",
    "print(next(repeat_object))\n",
    "# print(next(repeat_object))\n"
   ]
  },
  {
   "attachments": {},
   "cell_type": "markdown",
   "metadata": {},
   "source": [
    "## Accumulate()\n",
    "Accumulate makes an iterator that returns accumulated sums.\n",
    "<br>accumulate(iterable, func=operator.add) -> iterator </br>"
   ]
  },
  {
   "cell_type": "code",
   "execution_count": 36,
   "metadata": {},
   "outputs": [
    {
     "data": {
      "text/plain": [
       "[3, 7, 12, 18, 25]"
      ]
     },
     "execution_count": 36,
     "metadata": {},
     "output_type": "execute_result"
    }
   ],
   "source": [
    "list(itertools.accumulate([3, 4, 5, 6, 7])) # 3,   3 + 4,   7 (3 + 4) + 5,   12 (3 + 4 + 5) + 6,   19 (3 + 4 + 5 + 6) + 7"
   ]
  },
  {
   "cell_type": "code",
   "execution_count": 52,
   "metadata": {},
   "outputs": [
    {
     "name": "stdout",
     "output_type": "stream",
     "text": [
      "15\n",
      "20\n"
     ]
    },
    {
     "data": {
      "text/plain": [
       "[3, 15, 105]"
      ]
     },
     "execution_count": 52,
     "metadata": {},
     "output_type": "execute_result"
    }
   ],
   "source": [
    "print(operator.mul(3, 5))\n",
    "print(operator.mul(2, 10))\n",
    "list(itertools.accumulate([3, 5, 7], operator.mul)) # 3,   3 x 5,    15 (3 x 5) x 7"
   ]
  },
  {
   "cell_type": "code",
   "execution_count": 50,
   "metadata": {},
   "outputs": [
    {
     "data": {
      "text/plain": [
       "[3, 30, 420]"
      ]
     },
     "execution_count": 50,
     "metadata": {},
     "output_type": "execute_result"
    }
   ],
   "source": [
    "def multiply(x, y):\n",
    "    return x * y * 2\n",
    "list(itertools.accumulate([3, 5, 7], multiply))"
   ]
  },
  {
   "cell_type": "code",
   "execution_count": 56,
   "metadata": {},
   "outputs": [
    {
     "name": "stdout",
     "output_type": "stream",
     "text": [
      "3, 8, 15\n"
     ]
    }
   ],
   "source": [
    "acc = itertools.accumulate([3, 5, 7])\n",
    "print(next(acc), end=', ')\n",
    "print(next(acc), end=', ')\n",
    "print(next(acc))"
   ]
  },
  {
   "attachments": {},
   "cell_type": "markdown",
   "metadata": {},
   "source": [
    "## Chain()\n",
    "Take a series of iterables and return them as one long iterable.\n",
    "<br>chain(*iterables) -> iterable </br>\n",
    "<i>- Used for treating consecutive sequences as a single sequence.\n",
    "<br>- You can chain together lists, tuples, sets and strings</br></i>"
   ]
  },
  {
   "cell_type": "code",
   "execution_count": 60,
   "metadata": {},
   "outputs": [
    {
     "name": "stdout",
     "output_type": "stream",
     "text": [
      "<itertools.chain object at 0x0000019FA76A81F0>\n",
      "red, orange, yellow\n",
      "green, blue, circle, triangle, square, pentagon, "
     ]
    }
   ],
   "source": [
    "colors = ['red', 'orange', 'yellow', 'green', 'blue']\n",
    "shapes = ['circle', 'triangle', 'square', 'pentagon']\n",
    "result = itertools.chain(colors, shapes)\n",
    "print(result)\n",
    "print(next(result), end=', ')\n",
    "print(next(result), end=', ')\n",
    "print(next(result), end='\\n')\n",
    "\n",
    "for item in result:\n",
    "    print(item, end=', ')"
   ]
  },
  {
   "cell_type": "code",
   "execution_count": 62,
   "metadata": {},
   "outputs": [
    {
     "name": "stdout",
     "output_type": "stream",
     "text": [
      "nahid, pouya, age, sex, engineer, employeed, I, R, N, "
     ]
    }
   ],
   "source": [
    "s1 = {'pouya', 'nahid'}\n",
    "l1 = ['age', 'sex']\n",
    "t1 = ('engineer', 'employeed')\n",
    "\n",
    "result_dict = itertools.chain(s1, l1, t1, 'IRN')\n",
    "for item in result_dict:\n",
    "    print(item, end=', ')"
   ]
  },
  {
   "attachments": {},
   "cell_type": "markdown",
   "metadata": {},
   "source": [
    "## Compress()\n",
    "Compress makes an iterator that filters elements from data returning\n",
    "only those that have a corresponding element in selectors that\n",
    "evaluates to True.\n",
    "<br>compress(data, selectors) -> iterator.</br>\n",
    "\n",
    "<i>Stops when either the data or selectors iterables have been exhausted.</i>"
   ]
  },
  {
   "cell_type": "code",
   "execution_count": 64,
   "metadata": {},
   "outputs": [
    {
     "data": {
      "text/plain": [
       "['A', 'C', 'F']"
      ]
     },
     "execution_count": 64,
     "metadata": {},
     "output_type": "execute_result"
    }
   ],
   "source": [
    "list(itertools.compress(\"ABCDEF\", [1, 0, 1, 0, 0, 1]))"
   ]
  },
  {
   "cell_type": "code",
   "execution_count": 65,
   "metadata": {},
   "outputs": [
    {
     "name": "stdout",
     "output_type": "stream",
     "text": [
      "A\n",
      "C\n"
     ]
    }
   ],
   "source": [
    "compress_obj = itertools.compress(\"ABCDEF\", [1, 0, 1, 0, 1, 1])\n",
    "\n",
    "print(next(compress_obj))\n",
    "print(next(compress_obj))"
   ]
  },
  {
   "attachments": {},
   "cell_type": "markdown",
   "metadata": {},
   "source": [
    "## Dropwhile()\n",
    "Make an iterator that drops elements from the iterable as long as the predicate is true; afterwards, returns every element.\n",
    "<br>dropwhile(predicate, iterable) -> iterator.</br>"
   ]
  },
  {
   "cell_type": "code",
   "execution_count": 66,
   "metadata": {},
   "outputs": [
    {
     "data": {
      "text/plain": [
       "[5, 6, 7, 8, 9]"
      ]
     },
     "execution_count": 66,
     "metadata": {},
     "output_type": "execute_result"
    }
   ],
   "source": [
    "list(itertools.dropwhile(lambda x: x < 5, [1, 2, 3, 4, 5, 6, 7, 8, 9]))"
   ]
  },
  {
   "cell_type": "code",
   "execution_count": 72,
   "metadata": {},
   "outputs": [
    {
     "name": "stdout",
     "output_type": "stream",
     "text": [
      "5, 6, 7, 8\n"
     ]
    }
   ],
   "source": [
    "def filter_func(x):\n",
    "    return True if x < 5 else False\n",
    "\n",
    "dropwhile_obj = itertools.dropwhile(filter_func, [1, 2, 3, 4, 5, 6, 7, 8])\n",
    "print(next(dropwhile_obj), end=', ')\n",
    "print(next(dropwhile_obj), end=', ')\n",
    "print(next(dropwhile_obj), end=', ')\n",
    "print(next(dropwhile_obj))"
   ]
  },
  {
   "attachments": {},
   "cell_type": "markdown",
   "metadata": {},
   "source": [
    "## Takewhile()\n",
    "Makes an iterator and returns elements from the iterable as long as the predicate is true.The opposite of dropwhile().\n",
    "<br>takewhile(predicate, iterable) -> iterator.</br>"
   ]
  },
  {
   "cell_type": "code",
   "execution_count": 91,
   "metadata": {},
   "outputs": [
    {
     "data": {
      "text/plain": [
       "[1, 2, 3, 4]"
      ]
     },
     "execution_count": 91,
     "metadata": {},
     "output_type": "execute_result"
    }
   ],
   "source": [
    "list(itertools.takewhile(lambda x: x < 5, [1, 2, 3, 4, 5, 6, 7, 8, 9]))"
   ]
  },
  {
   "cell_type": "code",
   "execution_count": 90,
   "metadata": {},
   "outputs": [
    {
     "name": "stdout",
     "output_type": "stream",
     "text": [
      "1, 2, 3, 4\n"
     ]
    }
   ],
   "source": [
    "def filter_func(x):\n",
    "    return True if x < 5 else False\n",
    "\n",
    "dropwhile_obj = itertools.takewhile(filter_func, [1, 2, 3, 4, 5, 6, 7, 8])\n",
    "print(next(dropwhile_obj), end=', ')\n",
    "print(next(dropwhile_obj), end=', ')\n",
    "print(next(dropwhile_obj), end=', ')\n",
    "print(next(dropwhile_obj))"
   ]
  },
  {
   "attachments": {},
   "cell_type": "markdown",
   "metadata": {},
   "source": [
    "## Filterfalse()\n",
    "Makes an iterator that filters elements from iterable returning only those for which the predicate is False.\n",
    "<br>filterfalse(predicate, iterable) -> iterator.</br>"
   ]
  },
  {
   "cell_type": "code",
   "execution_count": 73,
   "metadata": {},
   "outputs": [
    {
     "data": {
      "text/plain": [
       "[4, 5, 6, 7, 8, 9]"
      ]
     },
     "execution_count": 73,
     "metadata": {},
     "output_type": "execute_result"
    }
   ],
   "source": [
    "list(itertools.filterfalse(lambda x: x < 4, [1, 2, 3, 4, 5, 6, 7, 8, 9]))"
   ]
  },
  {
   "cell_type": "code",
   "execution_count": 74,
   "metadata": {},
   "outputs": [
    {
     "name": "stdout",
     "output_type": "stream",
     "text": [
      "4, 5, 6, "
     ]
    }
   ],
   "source": [
    "filterfalse_obj = itertools.filterfalse(lambda x: x < 4, [1, 2, 3, 4, 5, 6, 7, 8, 9])\n",
    "print(next(filterfalse_obj), end=', ')\n",
    "print(next(filterfalse_obj), end=', ')\n",
    "print(next(filterfalse_obj), end=', ')"
   ]
  },
  {
   "attachments": {},
   "cell_type": "markdown",
   "metadata": {},
   "source": [
    "## Islice()\n",
    "This allows you to cut out a piece of an iterable. This function is very much like slices.\n",
    "<br>islice(iterable, *args) -> iterator.</br>"
   ]
  },
  {
   "cell_type": "code",
   "execution_count": 76,
   "metadata": {},
   "outputs": [
    {
     "name": "stdout",
     "output_type": "stream",
     "text": [
      "['A', 'B', 'C', 'D']\n",
      "['A', 'B', 'C', 'D']\n"
     ]
    }
   ],
   "source": [
    "print(list(itertools.islice(\"ABCDEFGH\", 4)))\n",
    "print(list(\"ABCDEFGH\"[0:4]))"
   ]
  },
  {
   "cell_type": "code",
   "execution_count": 77,
   "metadata": {},
   "outputs": [
    {
     "name": "stdout",
     "output_type": "stream",
     "text": [
      "['C', 'D']\n",
      "['C', 'D']\n"
     ]
    }
   ],
   "source": [
    "print(list(itertools.islice(\"ABCDEFG\", 2, 4)))\n",
    "\n",
    "# similar to\n",
    "\n",
    "print(list(\"ABCDEFG\"[2:4]))"
   ]
  },
  {
   "cell_type": "code",
   "execution_count": 79,
   "metadata": {},
   "outputs": [
    {
     "name": "stdout",
     "output_type": "stream",
     "text": [
      "['C', 'D', 'E', 'F', 'G']\n",
      "['C', 'D', 'E', 'F', 'G']\n"
     ]
    }
   ],
   "source": [
    "print(list(itertools.islice(\"ABCDEFG\", 2, None)))\n",
    "\n",
    "# similar to\n",
    "\n",
    "print(list(\"ABCDEFG\"[2:]))"
   ]
  },
  {
   "cell_type": "code",
   "execution_count": 83,
   "metadata": {},
   "outputs": [
    {
     "name": "stdout",
     "output_type": "stream",
     "text": [
      "['A', 'D', 'G']\n",
      "['A', 'D', 'G']\n"
     ]
    }
   ],
   "source": [
    "print(list(itertools.islice(\"ABCDEFG\", 0, None, 3)))\n",
    "\n",
    "# similar to\n",
    "\n",
    "print(list(\"ABCDEFG\"[::3]))"
   ]
  },
  {
   "cell_type": "code",
   "execution_count": 84,
   "metadata": {},
   "outputs": [
    {
     "name": "stdout",
     "output_type": "stream",
     "text": [
      "A\n",
      "C\n"
     ]
    }
   ],
   "source": [
    "islice_obj = itertools.islice(\"ABCDEFG\", 0, None, 2)\n",
    "print(next(islice_obj))\n",
    "print(next(islice_obj))\n"
   ]
  },
  {
   "attachments": {},
   "cell_type": "markdown",
   "metadata": {},
   "source": [
    "## Starmap()\n",
    "Makes an iterator that computes the function using arguments obtained from the iterable.\n",
    "<br>starmap(function, iterable) -> iterator.</br>"
   ]
  },
  {
   "cell_type": "code",
   "execution_count": 86,
   "metadata": {},
   "outputs": [
    {
     "name": "stdout",
     "output_type": "stream",
     "text": [
      "[16, 243, 16]\n"
     ]
    }
   ],
   "source": [
    "print(list(itertools.starmap(pow, [(2, 4), (3, 5), (4, 2)])))"
   ]
  },
  {
   "cell_type": "code",
   "execution_count": 87,
   "metadata": {},
   "outputs": [
    {
     "name": "stdout",
     "output_type": "stream",
     "text": [
      "[24, 0, 24]\n"
     ]
    }
   ],
   "source": [
    "def any_func(a, b, c):\n",
    "    return a * b * c\n",
    "\n",
    "print(list(itertools.starmap(any_func, [(2, 3, 4), (-2, 40, 0), (-2, 4, -3)])))"
   ]
  },
  {
   "cell_type": "code",
   "execution_count": 89,
   "metadata": {},
   "outputs": [
    {
     "name": "stdout",
     "output_type": "stream",
     "text": [
      "8, 15, 5\n"
     ]
    }
   ],
   "source": [
    "starmap_obj = itertools.starmap(operator.mul, [(2, 4), (3, 5), (5, 1)])\n",
    "print(next(starmap_obj), end = ', ')\n",
    "print(next(starmap_obj), end = ', ')\n",
    "print(next(starmap_obj))\n"
   ]
  },
  {
   "attachments": {},
   "cell_type": "markdown",
   "metadata": {},
   "source": [
    "## Count()\n",
    "Makes an iterator that returns evenly spaced values starting with number start.\n",
    "<br>count(start, step) -> iterator.</br>\n",
    "\n",
    "<i>Remember: Each time your generator is called upon using next, it will only then yield the result.\n",
    "<br>This will continue until your generator is exhausted.</br></i>"
   ]
  },
  {
   "attachments": {},
   "cell_type": "markdown",
   "metadata": {},
   "source": [
    "## Count()\n",
    "Makes an iterator that returns evenly spaced values starting with number start.\n",
    "<br>count(start, step) -> iterator.</br>\n",
    "\n",
    "<i>Remember: Each time your generator is called upon using next, it will only then yield the result.\n",
    "<br>This will continue until your generator is exhausted.</br></i>"
   ]
  },
  {
   "attachments": {},
   "cell_type": "markdown",
   "metadata": {},
   "source": [
    "## Count()\n",
    "Makes an iterator that returns evenly spaced values starting with number start.\n",
    "<br>count(start, step) -> iterator.</br>\n",
    "\n",
    "<i>Remember: Each time your generator is called upon using next, it will only then yield the result.\n",
    "<br>This will continue until your generator is exhausted.</br></i>"
   ]
  },
  {
   "attachments": {},
   "cell_type": "markdown",
   "metadata": {},
   "source": [
    "## Links:\n",
    "<br>https://github.com/gpetepg/python_tips</br>\n",
    "https://www.pythoncheatsheet.org/modules/itertools-module#filterfalse"
   ]
  }
 ],
 "metadata": {
  "kernelspec": {
   "display_name": "Python 3",
   "language": "python",
   "name": "python3"
  },
  "language_info": {
   "codemirror_mode": {
    "name": "ipython",
    "version": 3
   },
   "file_extension": ".py",
   "mimetype": "text/x-python",
   "name": "python",
   "nbconvert_exporter": "python",
   "pygments_lexer": "ipython3",
   "version": "3.11.1"
  },
  "orig_nbformat": 4,
  "vscode": {
   "interpreter": {
    "hash": "5238573367df39f7286bb46f9ff5f08f63a01a80960060ce41e3c79b190280fa"
   }
  }
 },
 "nbformat": 4,
 "nbformat_minor": 2
}
